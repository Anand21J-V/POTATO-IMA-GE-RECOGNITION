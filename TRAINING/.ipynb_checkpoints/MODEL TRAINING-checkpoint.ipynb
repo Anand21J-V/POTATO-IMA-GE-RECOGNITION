{
 "cells": [
  {
   "cell_type": "markdown",
   "id": "ac690f02",
   "metadata": {},
   "source": [
    "# DATA COLLECTION & DATA PREPROCESSING"
   ]
  },
  {
   "cell_type": "markdown",
   "id": "0d4a5fa6",
   "metadata": {},
   "source": [
    "# LOADING DATASET"
   ]
  },
  {
   "cell_type": "code",
   "execution_count": 1,
   "id": "649df054",
   "metadata": {},
   "outputs": [],
   "source": [
    "# IMPORTING LIBRARIES\n",
    "\n",
    "import tensorflow as tf\n",
    "from tensorflow.keras import models, layers\n",
    "import matplotlib.pyplot as plt "
   ]
  },
  {
   "cell_type": "code",
   "execution_count": 4,
   "id": "1851a8a0",
   "metadata": {},
   "outputs": [],
   "source": [
    "# DEFINING THE CONSTANT\n",
    "\n",
    "IMAGE_SIZE = 256\n",
    "BATCH_SIZE = 32"
   ]
  },
  {
   "cell_type": "code",
   "execution_count": 7,
   "id": "c42bc553",
   "metadata": {},
   "outputs": [
    {
     "name": "stdout",
     "output_type": "stream",
     "text": [
      "Found 2152 files belonging to 3 classes.\n"
     ]
    }
   ],
   "source": [
    "#IMPORTING THE DATASET\n",
    "\n",
    "dataset = tf.keras.preprocessing.image_dataset_from_directory(\n",
    "    \"PLANT VILLAGE\",   \n",
    "    batch_size=BATCH_SIZE,\n",
    "    image_size=(IMAGE_SIZE, IMAGE_SIZE),\n",
    "    shuffle=True,\n",
    "       )"
   ]
  },
  {
   "cell_type": "code",
   "execution_count": 8,
   "id": "bd25d6a3",
   "metadata": {},
   "outputs": [
    {
     "data": {
      "text/plain": [
       "['Potato___Early_blight', 'Potato___Late_blight', 'Potato___healthy']"
      ]
     },
     "execution_count": 8,
     "metadata": {},
     "output_type": "execute_result"
    }
   ],
   "source": [
    "#CHECKING ALL THE CLASS NAMES PRESENT IN THE DATASET\n",
    "\n",
    "class_names = dataset.class_names\n",
    "class_names"
   ]
  },
  {
   "cell_type": "code",
   "execution_count": 9,
   "id": "9e53d132",
   "metadata": {},
   "outputs": [
    {
     "data": {
      "text/plain": [
       "68"
      ]
     },
     "execution_count": 9,
     "metadata": {},
     "output_type": "execute_result"
    }
   ],
   "source": [
    "#CHECKING THE LENGTH\n",
    "\n",
    "len(dataset)"
   ]
  },
  {
   "cell_type": "markdown",
   "id": "308237c2",
   "metadata": {},
   "source": [
    "ITS SHOWING 68 BCZ.. THE BATCH SIZE IS AROUND 32 AND THE MULTIPLIACTION BETWEEN 32 * 68 IS 2176...IT SHOWING BIT MORE FROM THE FILES FOUND BCZ LAST BATCH IS NOT PROPERLY SETTELED "
   ]
  },
  {
   "cell_type": "code",
   "execution_count": 14,
   "id": "b5c5b82f",
   "metadata": {},
   "outputs": [
    {
     "name": "stdout",
     "output_type": "stream",
     "text": [
      "(32, 256, 256, 3)\n",
      "[0 1 1 0 1 1 1 0 0 1 2 1 2 1 1 1 0 1 0 0 1 1 1 0 1 1 0 0 1 1 1 0]\n"
     ]
    }
   ],
   "source": [
    "#NUMBER OF SIZE OF BATCHES IN IMAGE BATCH AND IN LABEL BATCH\n",
    "\n",
    "for image_batch, label_batch in dataset.take(1):\n",
    "    print(image_batch.shape)\n",
    "    print(label_batch.numpy())"
   ]
  },
  {
   "cell_type": "markdown",
   "id": "54a37ad6",
   "metadata": {},
   "source": [
    "# DATA VISUALISATION"
   ]
  },
  {
   "cell_type": "code",
   "execution_count": 48,
   "id": "b7575d0d",
   "metadata": {
    "scrolled": false
   },
   "outputs": [
    {
     "ename": "SyntaxError",
     "evalue": "cannot assign to literal here. Maybe you meant '==' instead of '='? (1837540137.py, line 6)",
     "output_type": "error",
     "traceback": [
      "\u001b[1;36m  Cell \u001b[1;32mIn[48], line 6\u001b[1;36m\u001b[0m\n\u001b[1;33m    plt.figure(figsize=(16,4=16))\u001b[0m\n\u001b[1;37m                           ^\u001b[0m\n\u001b[1;31mSyntaxError\u001b[0m\u001b[1;31m:\u001b[0m cannot assign to literal here. Maybe you meant '==' instead of '='?\n"
     ]
    }
   ],
   "source": [
    "#CONVERING THE FLOAT TYPE INTO INTEGER TYPE FOR CLEAR VISUALISATION\n",
    "#GETTING ALL THE CLASS NAMES WITH THE REAL IMAGE FIGURE\n",
    "\n",
    "for image_batch, label_batch in dataset.take(1):\n",
    "    for i in range(32):\n",
    "        plt.figure(figsize=(16,4=16))\n",
    "        plt.subplot(8,4,i+1)\n",
    "        plt.imshow(image_batch[i].numpy().astype(\"uint8\"))\n",
    "        plt.title(class_names[label_batch[i]])\n",
    "        plt.axis(\"off\")\n",
    "        "
   ]
  },
  {
   "cell_type": "code",
   "execution_count": null,
   "id": "80643c51",
   "metadata": {},
   "outputs": [],
   "source": []
  },
  {
   "cell_type": "code",
   "execution_count": null,
   "id": "4930b2d1",
   "metadata": {},
   "outputs": [],
   "source": []
  }
 ],
 "metadata": {
  "kernelspec": {
   "display_name": "Python 3 (ipykernel)",
   "language": "python",
   "name": "python3"
  },
  "language_info": {
   "codemirror_mode": {
    "name": "ipython",
    "version": 3
   },
   "file_extension": ".py",
   "mimetype": "text/x-python",
   "name": "python",
   "nbconvert_exporter": "python",
   "pygments_lexer": "ipython3",
   "version": "3.10.9"
  }
 },
 "nbformat": 4,
 "nbformat_minor": 5
}
